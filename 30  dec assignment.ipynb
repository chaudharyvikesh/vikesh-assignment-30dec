{
 "cells": [
  {
   "cell_type": "code",
   "execution_count": 2,
   "id": "ded6667a",
   "metadata": {},
   "outputs": [
    {
     "name": "stdout",
     "output_type": "stream",
     "text": [
      "enter the first no:100\n"
     ]
    }
   ],
   "source": [
    "a=int(input(\"enter the first no:\"))"
   ]
  },
  {
   "cell_type": "code",
   "execution_count": 5,
   "id": "fb2ff9cf",
   "metadata": {},
   "outputs": [
    {
     "name": "stdout",
     "output_type": "stream",
     "text": [
      "enter the second no:86.75\n"
     ]
    }
   ],
   "source": [
    "b=float(input(\"enter the second no:\"))"
   ]
  },
  {
   "cell_type": "code",
   "execution_count": 4,
   "id": "669ba66d",
   "metadata": {},
   "outputs": [
    {
     "name": "stdout",
     "output_type": "stream",
     "text": [
      "enter the third no:25.75\n"
     ]
    }
   ],
   "source": [
    "c=float(input(\"enter the third no:\"))"
   ]
  },
  {
   "cell_type": "code",
   "execution_count": 6,
   "id": "e6192156",
   "metadata": {},
   "outputs": [
    {
     "name": "stdout",
     "output_type": "stream",
     "text": [
      "sum of the num is: 212.5\n"
     ]
    }
   ],
   "source": [
    "print(\"sum of the num is:\",a+b+c)"
   ]
  },
  {
   "cell_type": "code",
   "execution_count": 7,
   "id": "b1a5dba7",
   "metadata": {},
   "outputs": [
    {
     "name": "stdout",
     "output_type": "stream",
     "text": [
      "diff of the num is: -12.5\n"
     ]
    }
   ],
   "source": [
    "print(\"diff of the num is:\",a-b-c)"
   ]
  },
  {
   "cell_type": "code",
   "execution_count": 8,
   "id": "3c7024e5",
   "metadata": {},
   "outputs": [
    {
     "name": "stdout",
     "output_type": "stream",
     "text": [
      "multiplication of the num is: 223381.25\n"
     ]
    }
   ],
   "source": [
    "print(\"multiplication of the num is:\",a*b*c)"
   ]
  },
  {
   "cell_type": "code",
   "execution_count": 12,
   "id": "90f0a31a",
   "metadata": {},
   "outputs": [
    {
     "name": "stdout",
     "output_type": "stream",
     "text": [
      "div of the num is: 0.04476651464704401\n"
     ]
    }
   ],
   "source": [
    "print(\"div of the num is:\",a/b/c)"
   ]
  },
  {
   "cell_type": "code",
   "execution_count": 10,
   "id": "55e68ad9",
   "metadata": {},
   "outputs": [
    {
     "name": "stdout",
     "output_type": "stream",
     "text": [
      "remainder of the num is: 13.25\n"
     ]
    }
   ],
   "source": [
    "print(\"remainder of the num is:\",a%b%c)"
   ]
  },
  {
   "cell_type": "code",
   "execution_count": 11,
   "id": "3c2d00ad",
   "metadata": {},
   "outputs": [
    {
     "name": "stdout",
     "output_type": "stream",
     "text": [
      "avg of the num is: 70.83333333333333\n"
     ]
    }
   ],
   "source": [
    "print(\"avg of the num is:\",(a+b+c)/3)"
   ]
  }
 ],
 "metadata": {
  "kernelspec": {
   "display_name": "Python 3 (ipykernel)",
   "language": "python",
   "name": "python3"
  },
  "language_info": {
   "codemirror_mode": {
    "name": "ipython",
    "version": 3
   },
   "file_extension": ".py",
   "mimetype": "text/x-python",
   "name": "python",
   "nbconvert_exporter": "python",
   "pygments_lexer": "ipython3",
   "version": "3.9.12"
  }
 },
 "nbformat": 4,
 "nbformat_minor": 5
}
